{
 "cells": [
  {
   "cell_type": "code",
   "execution_count": 41,
   "metadata": {
    "collapsed": false
   },
   "outputs": [
    {
     "data": {
      "image/png": "[encoded data removed]",
      "text/plain": [
       "<matplotlib.figure.Figure at 0x7f06a506cb10>"
      ]
     },
     "metadata": {},
     "output_type": "display_data"
    }
   ],
   "source": [
    "%matplotlib inline\n",
    "\n",
    "import numpy as np\n",
    "import matplotlib.mlab as mlab\n",
    "import matplotlib.pyplot as plt\n",
    "\n",
    "\n",
    "\n",
    "\n",
    "# Gaussian Distribution\n",
    "dist_size = 1000\n",
    "mu, sigma = 100, 20 #sigma is std, mu is mean\n",
    "dist_normal = np.random.normal(loc=mu, scale=sigma, size=dist_size)\n",
    "n, bins, pathces = plt.hist(dist_normal, bins=100, normed=0)\n",
    "plt.show()\n"
   ]
  },
  {
   "cell_type": "code",
   "execution_count": 32,
   "metadata": {
    "collapsed": false
   },
   "outputs": [
    {
     "data": {
      "image/png": "[encoded data removed]",
      "text/plain": [
       "<matplotlib.figure.Figure at 0x7f06a5768810>"
      ]
     },
     "metadata": {},
     "output_type": "display_data"
    }
   ],
   "source": [
    "# Non-Gaussian Distribution\n",
    "dist_exponential = np.random.exponential(size=dist_size)\n",
    "n, bins, pathces = plt.hist(dist_exponential, bins=100, normed=0)\n",
    "plt.show()"
   ]
  },
  {
   "cell_type": "code",
   "execution_count": 42,
   "metadata": {
    "collapsed": false
   },
   "outputs": [
    {
     "data": {
      "image/png": "[encoded data removed]",
      "text/plain": [
       "<matplotlib.figure.Figure at 0x7f06a57de510>"
      ]
     },
     "metadata": {},
     "output_type": "display_data"
    }
   ],
   "source": [
    "# Find the parameters of the distribution (assuming the distribution parameters are unknown).\n",
    "mean = np.mean(dist_normal)\n",
    "std = np.std(dist_normal)\n",
    "y = mlab.normpdf(bins, mean, std)\n",
    "plt.hist(dist_normal, bins=100, normed=1)\n",
    "plt.plot(bins, y, 'r')\n",
    "plt.show()\n"
   ]
  },
  {
   "cell_type": "code",
   "execution_count": null,
   "metadata": {
    "collapsed": true
   },
   "outputs": [],
   "source": [
    "# Given a streaming time series of real-valued, scalar observations,\n",
    "# describe an online algorithm for determining a linear Gaussian\n",
    "# model of these observations as a function of time step.\n",
    "\n",
    "# To derive a linear Gaussian model, we simply need the mean (cumulative sum) and the standard\n",
    "# deviation (cumulative sum squared) of the observations.\n",
    "# Some assumptions:\n",
    "#    1. We only get one observation per time step.\n",
    "#    2. The input to the online algorithm is the observation.\n",
    "#    3. The algorithm outputs model parameters for a given\n",
    "#       time step ('t').\n",
    "\n",
    "# Global variables\n",
    "# 'cumSum' and 'cumSumSq' have to be lists because\n",
    "# parameters are a function of the time step.\n",
    "\n",
    "n = 0 # Time step\n",
    "cumSum = [] # cumulative sum\n",
    "cumSumSq = [] # cumulative sum squared\n",
    "\n",
    "def addObservation(x):\n",
    "    \"\"\"\n",
    "    Updates the cumulative sum and cumulative sum squared,\n",
    "    which can be used to compute model parameters.\n",
    "    \"\"\"\n",
    "    if n == 0:\n",
    "        cumSum.append(x)\n",
    "        cumSumSq.append(x*x)\n",
    "    else:\n",
    "        cumSum.append(x+cumSum[n])\n",
    "        cumSumSq.append(x*x + cumSumSq[n])\n",
    "    n+=1\n",
    "    \n",
    "def getModelParameters(t):\n",
    "    \"\"\"\n",
    "    Returns the linear Gaussian model parameters (mean and standard deviation)\n",
    "    at the time step 't'.\n",
    "    Assuming the time step goes from 2 to n - 1.\n",
    "    \"\"\"\n",
    "    if (t < 2 or t >= n):\n",
    "        # Error\n",
    "        return None, None\n",
    "    sample_mean = cumSum[t]/t\n",
    "    sample_var_unbiased = (cumSumSq[t] - cumSum[t]*cumSum[t])\n",
    "    sample_var_unbiased /= (t - 1.0)\n",
    "    sample_std = np.sqrt(sample_var_unbiased)\n",
    "    \n",
    "    return sample_mean, sample_std\n",
    "    "
   ]
  }
 ],
 "metadata": {
  "kernelspec": {
   "display_name": "Python 2",
   "language": "python",
   "name": "python2"
  },
  "language_info": {
   "codemirror_mode": {
    "name": "ipython",
    "version": 2
   },
   "file_extension": ".py",
   "mimetype": "text/x-python",
   "name": "python",
   "nbconvert_exporter": "python",
   "pygments_lexer": "ipython2",
   "version": "2.7.6"
  }
 },
 "nbformat": 4,
 "nbformat_minor": 0
}
